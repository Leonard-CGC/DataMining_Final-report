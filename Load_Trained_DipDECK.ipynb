{
 "cells": [
  {
   "cell_type": "markdown",
   "id": "2115d795",
   "metadata": {},
   "source": [
    "<font size=4>此檔案可快速導入我們以訓練好的 DipDECK，因此可以跳過耗時的訓練過程</font>"
   ]
  },
  {
   "cell_type": "code",
   "execution_count": 1,
   "id": "ff8bf5dd",
   "metadata": {},
   "outputs": [],
   "source": [
    "import numpy as np\n",
    "import torch\n",
    "import torch.nn as nn\n",
    "import torch.utils.data as data\n",
    "import torchvision\n",
    "import torch.optim as optim"
   ]
  },
  {
   "cell_type": "code",
   "execution_count": 2,
   "id": "98c780c7",
   "metadata": {},
   "outputs": [],
   "source": [
    "class Encoder(nn.Module):\n",
    "    def __init__(self):\n",
    "        super(Encoder, self).__init__()\n",
    "        self.encoder = None\n",
    "    def forward(self, inputs):\n",
    "        outputs = self.encoder(inputs)\n",
    "        return outputs\n",
    "    \n",
    "class Decoder(nn.Module):\n",
    "    def __init__(self, d, m=5):\n",
    "        super(Decoder, self).__init__()\n",
    "        self.encoder = None\n",
    "    def forward(self, inputs):\n",
    "        outputs = self.encoder(inputs)\n",
    "        return outputs"
   ]
  },
  {
   "cell_type": "code",
   "execution_count": 3,
   "id": "14b7377a",
   "metadata": {},
   "outputs": [],
   "source": [
    "class DipDECK:\n",
    "    def __init__(self, dataset, enc, dec, k_init=15, P_threshold=0.9, epochs=50, batch_size = 256):\n",
    "        self.BATCHSIZE = None\n",
    "        self.N_DATA, self.N_FEATURE = None, None\n",
    "        self.data = None\n",
    "        self.P_threshold = None\n",
    "        self.k = None\n",
    "        self.enc = None\n",
    "        self.dec = None\n",
    "        self.kmCentres = None\n",
    "        self.labels = None\n",
    "        self.centres = None\n",
    "        self.DipMatrix, self.nDipMatrix = None, None"
   ]
  },
  {
   "cell_type": "markdown",
   "id": "aaaa642c",
   "metadata": {},
   "source": [
    "#### Load trained DipDECK model\n",
    "儲存 model 的 .pkl 檔使用 protocol 5 封裝<br>\n",
    "Use pickle5 (import pickle5 as pickle) or load it into python 3.8+"
   ]
  },
  {
   "cell_type": "code",
   "execution_count": 4,
   "id": "0ff0c0d4",
   "metadata": {},
   "outputs": [],
   "source": [
    "import pickle\n",
    "\n",
    "with open('./saved_model/(new_k11) MNIST_kinit35_Pthreshold0.9_epoch50_024819_688495.pkl', 'rb') as inp:\n",
    "    enc, dec = pickle.load(inp)  # pre-trained autoencoder\n",
    "    Model = pickle.load(inp)"
   ]
  },
  {
   "cell_type": "code",
   "execution_count": 5,
   "id": "46bf8ca9",
   "metadata": {},
   "outputs": [
    {
     "data": {
      "text/plain": [
       "{'BATCHSIZE': 256,\n",
       " 'N_DATA': 60000,\n",
       " 'N_FEATURE': 784,\n",
       " 'data': tensor([[0., 0., 0.,  ..., 0., 0., 0.],\n",
       "         [0., 0., 0.,  ..., 0., 0., 0.],\n",
       "         [0., 0., 0.,  ..., 0., 0., 0.],\n",
       "         ...,\n",
       "         [0., 0., 0.,  ..., 0., 0., 0.],\n",
       "         [0., 0., 0.,  ..., 0., 0., 0.],\n",
       "         [0., 0., 0.,  ..., 0., 0., 0.]]),\n",
       " 'P_threshold': 0.9,\n",
       " 'k': 11,\n",
       " 'enc': Encoder(\n",
       "   (encoder): Sequential(\n",
       "     (0): Linear(in_features=784, out_features=500, bias=True)\n",
       "     (1): ReLU()\n",
       "     (2): Linear(in_features=500, out_features=500, bias=True)\n",
       "     (3): ReLU()\n",
       "     (4): Linear(in_features=500, out_features=2000, bias=True)\n",
       "     (5): ReLU()\n",
       "     (6): Linear(in_features=2000, out_features=5, bias=True)\n",
       "   )\n",
       " ),\n",
       " 'dec': Decoder(\n",
       "   (encoder): Sequential(\n",
       "     (0): Linear(in_features=5, out_features=2000, bias=True)\n",
       "     (1): ReLU()\n",
       "     (2): Linear(in_features=2000, out_features=500, bias=True)\n",
       "     (3): ReLU()\n",
       "     (4): Linear(in_features=500, out_features=500, bias=True)\n",
       "     (5): ReLU()\n",
       "     (6): Linear(in_features=500, out_features=784, bias=True)\n",
       "     (7): Sigmoid()\n",
       "   )\n",
       " ),\n",
       " 'kmCentres': tensor([[-3.0164e-01,  9.6107e-01, -1.2333e+00, -6.8051e-01,  4.7541e-01],\n",
       "         [ 1.0925e+00,  1.9181e-01, -1.0793e+00,  1.8815e+00,  1.0758e-01],\n",
       "         [-1.7034e+00, -2.5756e+00,  6.0033e-01,  3.1749e-01,  3.5945e+00],\n",
       "         [ 7.5627e-01, -7.8648e-01,  4.6963e-01, -3.4442e+00,  7.1892e-01],\n",
       "         [ 1.0701e+00, -6.8235e-01,  1.4425e+00, -1.2287e+00,  9.6862e-01],\n",
       "         [-5.2106e-01,  2.6999e+00,  2.8981e+00, -2.6151e+00, -2.1316e-02],\n",
       "         [-9.3441e-01,  1.7326e+00,  1.2811e+00, -6.6352e-01,  8.4266e-01],\n",
       "         [-2.1737e+00, -2.2139e+00,  3.6951e+00,  1.2780e+00,  6.9407e-01],\n",
       "         [ 1.8916e+00, -1.4894e+00, -5.4440e-01,  2.6834e+00,  5.1592e-01],\n",
       "         [ 2.4383e-01, -8.7772e-02,  5.9297e-02, -5.3875e-01,  1.2217e+00],\n",
       "         [ 1.1436e+00,  4.4706e-01,  1.6585e+00,  5.8470e-01, -1.9114e-01],\n",
       "         [-1.1975e+00,  5.5112e-01, -1.4297e-01,  1.5235e+00, -5.0178e-01],\n",
       "         [ 4.8370e-01, -1.6161e+00, -1.3832e+00, -2.8908e+00,  2.8832e+00],\n",
       "         [-1.7296e+00,  5.5069e-01,  1.6676e+00, -2.0032e+00, -1.5673e+00],\n",
       "         [-1.3672e+00,  4.4618e-02, -3.9369e-01,  2.1024e+00,  1.0456e+00],\n",
       "         [-3.3525e+00, -4.9280e-01,  1.9227e+00,  7.9544e-01,  1.1737e+00],\n",
       "         [-1.0929e+00,  1.8157e+00,  1.5286e-01,  4.5316e-01,  1.5918e+00],\n",
       "         [-1.3412e-01,  1.4426e-01, -2.9560e+00, -2.9571e-01,  1.2206e+00],\n",
       "         [ 1.4231e+00,  1.5454e+00, -2.5609e-01,  1.5070e+00,  1.0029e+00],\n",
       "         [ 9.6210e-01,  3.4427e-03,  1.0843e+00,  1.2723e+00,  1.1551e+00],\n",
       "         [-1.2961e-01,  9.6232e-01, -1.0137e-01, -1.7965e+00, -3.3696e-01],\n",
       "         [-1.4210e+00, -1.5264e+00,  1.2691e+00, -1.5910e-02,  1.4045e+00],\n",
       "         [-1.1588e-02, -5.9887e-01, -1.0539e-03, -2.2260e+00,  1.6392e+00],\n",
       "         [-1.9686e+00,  1.8274e+00, -1.6044e-01, -9.2033e-01, -1.0004e+00],\n",
       "         [-2.5052e+00, -2.8516e+00,  1.7083e+00, -1.8021e+00,  2.4036e+00],\n",
       "         [-7.2421e-01,  2.1776e+00, -3.2663e-01,  7.8437e-01,  3.9345e+00],\n",
       "         [-1.9693e+00,  1.5295e-01,  1.6053e-01, -1.1058e+00, -3.9547e-01],\n",
       "         [ 3.8764e-01, -1.2477e+00,  2.5384e+00,  2.0807e+00, -3.8825e-01],\n",
       "         [ 2.0984e+00,  1.9379e+00,  5.4159e-01,  3.7806e-02, -3.3766e-01],\n",
       "         [-3.3356e+00,  1.6888e+00, -8.1008e-01, -2.1623e+00,  1.0959e+00],\n",
       "         [ 2.5310e+00, -1.8776e+00, -8.1806e-01, -3.4207e+00,  1.1989e+00],\n",
       "         [ 7.9872e-01,  1.1404e+00, -4.9333e-02,  8.3798e-01, -6.5534e-02],\n",
       "         [ 1.9336e+00, -9.3976e-02, -9.1222e-01,  8.2271e-01, -1.4115e+00],\n",
       "         [-6.6546e-01,  3.4030e+00,  1.6283e+00,  4.5541e-01,  2.0253e+00],\n",
       "         [ 9.8668e-01, -4.6504e-01, -1.6578e-03,  1.8979e+00, -9.7109e-01]]),\n",
       " 'labels': tensor([0, 3, 6,  ..., 0, 4, 5]),\n",
       " 'centres': tensor([[0., 0., 0.,  ..., 0., 0., 0.],\n",
       "         [0., 0., 0.,  ..., 0., 0., 0.],\n",
       "         [0., 0., 0.,  ..., 0., 0., 0.],\n",
       "         ...,\n",
       "         [0., 0., 0.,  ..., 0., 0., 0.],\n",
       "         [0., 0., 0.,  ..., 0., 0., 0.],\n",
       "         [0., 0., 0.,  ..., 0., 0., 0.]], device='cuda:0'),\n",
       " 'nDipMatrix': tensor([[9.9011e-01, 9.8912e-04, 9.8912e-04, 9.8912e-04, 9.8912e-04, 9.8912e-04,\n",
       "          9.8912e-04, 9.8912e-04, 9.8912e-04, 9.8912e-04, 9.8912e-04],\n",
       "         [9.8912e-04, 9.9011e-01, 9.8912e-04, 9.8912e-04, 9.8912e-04, 9.8912e-04,\n",
       "          9.8912e-04, 9.8912e-04, 9.8912e-04, 9.8912e-04, 9.8912e-04],\n",
       "         [9.8814e-04, 9.8814e-04, 9.8913e-01, 9.8814e-04, 9.8814e-04, 9.8814e-04,\n",
       "          9.8814e-04, 9.8814e-04, 9.8814e-04, 9.8814e-04, 1.9763e-03],\n",
       "         [9.8912e-04, 9.8912e-04, 9.8912e-04, 9.9011e-01, 9.8912e-04, 9.8912e-04,\n",
       "          9.8912e-04, 9.8912e-04, 9.8912e-04, 9.8912e-04, 9.8912e-04],\n",
       "         [9.8912e-04, 9.8912e-04, 9.8912e-04, 9.8912e-04, 9.9011e-01, 9.8912e-04,\n",
       "          9.8912e-04, 9.8912e-04, 9.8912e-04, 9.8912e-04, 9.8912e-04],\n",
       "         [9.8912e-04, 9.8912e-04, 9.8912e-04, 9.8912e-04, 9.8912e-04, 9.9011e-01,\n",
       "          9.8912e-04, 9.8912e-04, 9.8912e-04, 9.8912e-04, 9.8912e-04],\n",
       "         [9.8814e-04, 9.8814e-04, 9.8814e-04, 9.8814e-04, 9.8814e-04, 9.8814e-04,\n",
       "          9.8913e-01, 9.8814e-04, 9.8814e-04, 9.8814e-04, 1.9763e-03],\n",
       "         [9.8912e-04, 9.8912e-04, 9.8912e-04, 9.8912e-04, 9.8912e-04, 9.8912e-04,\n",
       "          9.8912e-04, 9.9011e-01, 9.8912e-04, 9.8912e-04, 9.8912e-04],\n",
       "         [9.8912e-04, 9.8912e-04, 9.8912e-04, 9.8912e-04, 9.8912e-04, 9.8912e-04,\n",
       "          9.8912e-04, 9.8912e-04, 9.9011e-01, 9.8912e-04, 9.8912e-04],\n",
       "         [9.8912e-04, 9.8912e-04, 9.8912e-04, 9.8912e-04, 9.8912e-04, 9.8912e-04,\n",
       "          9.8912e-04, 9.8912e-04, 9.8912e-04, 9.9011e-01, 9.8912e-04],\n",
       "         [9.8717e-04, 9.8717e-04, 1.9743e-03, 9.8717e-04, 9.8717e-04, 9.8717e-04,\n",
       "          1.9743e-03, 9.8717e-04, 9.8717e-04, 9.8717e-04, 9.8815e-01]]),\n",
       " 'DipMatrix': tensor([[1.0000e+00, 9.9900e-04, 9.9900e-04, 9.9900e-04, 9.9900e-04, 9.9900e-04,\n",
       "          9.9900e-04, 9.9900e-04, 9.9900e-04, 9.9900e-04, 9.9900e-04],\n",
       "         [9.9900e-04, 1.0000e+00, 9.9900e-04, 9.9900e-04, 9.9900e-04, 9.9900e-04,\n",
       "          9.9900e-04, 9.9900e-04, 9.9900e-04, 9.9900e-04, 9.9900e-04],\n",
       "         [9.9900e-04, 9.9900e-04, 1.0000e+00, 9.9900e-04, 9.9900e-04, 9.9900e-04,\n",
       "          9.9900e-04, 9.9900e-04, 9.9900e-04, 9.9900e-04, 1.9980e-03],\n",
       "         [9.9900e-04, 9.9900e-04, 9.9900e-04, 1.0000e+00, 9.9900e-04, 9.9900e-04,\n",
       "          9.9900e-04, 9.9900e-04, 9.9900e-04, 9.9900e-04, 9.9900e-04],\n",
       "         [9.9900e-04, 9.9900e-04, 9.9900e-04, 9.9900e-04, 1.0000e+00, 9.9900e-04,\n",
       "          9.9900e-04, 9.9900e-04, 9.9900e-04, 9.9900e-04, 9.9900e-04],\n",
       "         [9.9900e-04, 9.9900e-04, 9.9900e-04, 9.9900e-04, 9.9900e-04, 1.0000e+00,\n",
       "          9.9900e-04, 9.9900e-04, 9.9900e-04, 9.9900e-04, 9.9900e-04],\n",
       "         [9.9900e-04, 9.9900e-04, 9.9900e-04, 9.9900e-04, 9.9900e-04, 9.9900e-04,\n",
       "          1.0000e+00, 9.9900e-04, 9.9900e-04, 9.9900e-04, 1.9980e-03],\n",
       "         [9.9900e-04, 9.9900e-04, 9.9900e-04, 9.9900e-04, 9.9900e-04, 9.9900e-04,\n",
       "          9.9900e-04, 1.0000e+00, 9.9900e-04, 9.9900e-04, 9.9900e-04],\n",
       "         [9.9900e-04, 9.9900e-04, 9.9900e-04, 9.9900e-04, 9.9900e-04, 9.9900e-04,\n",
       "          9.9900e-04, 9.9900e-04, 1.0000e+00, 9.9900e-04, 9.9900e-04],\n",
       "         [9.9900e-04, 9.9900e-04, 9.9900e-04, 9.9900e-04, 9.9900e-04, 9.9900e-04,\n",
       "          9.9900e-04, 9.9900e-04, 9.9900e-04, 1.0000e+00, 9.9900e-04],\n",
       "         [9.9900e-04, 9.9900e-04, 1.9980e-03, 9.9900e-04, 9.9900e-04, 9.9900e-04,\n",
       "          1.9980e-03, 9.9900e-04, 9.9900e-04, 9.9900e-04, 1.0000e+00]])}"
      ]
     },
     "execution_count": 5,
     "metadata": {},
     "output_type": "execute_result"
    }
   ],
   "source": [
    "Model.__dict__"
   ]
  },
  {
   "cell_type": "markdown",
   "id": "6e72ccd4",
   "metadata": {},
   "source": [
    "#### Load train data"
   ]
  },
  {
   "cell_type": "code",
   "execution_count": 6,
   "id": "6cf286d8",
   "metadata": {},
   "outputs": [],
   "source": [
    "from torch.utils.data import DataLoader\n",
    "from torchvision import datasets\n",
    "from torchvision.transforms import transforms\n",
    "\n",
    "import matplotlib.pyplot as plt"
   ]
  },
  {
   "cell_type": "code",
   "execution_count": 7,
   "id": "3a447393",
   "metadata": {},
   "outputs": [],
   "source": [
    "train_data = datasets.MNIST('./dataset',\n",
    "                            train=True,\n",
    "                            download=True,\n",
    "                            transform=transforms.ToTensor())\n",
    "train_data.data = train_data.data/255"
   ]
  },
  {
   "cell_type": "markdown",
   "id": "ea312b54",
   "metadata": {},
   "source": [
    "#### confusion_matrix"
   ]
  },
  {
   "cell_type": "code",
   "execution_count": 8,
   "id": "3add9c0f",
   "metadata": {},
   "outputs": [
    {
     "data": {
      "image/png": "[encoded data removed]",
      "text/plain": [
       "<Figure size 360x360 with 1 Axes>"
      ]
     },
     "execution_count": 8,
     "metadata": {},
     "output_type": "execute_result"
    }
   ],
   "source": [
    "from sklearn.metrics import confusion_matrix, normalized_mutual_info_score\n",
    "\n",
    "fig = plt.Figure(figsize=(5,5))\n",
    "ax = fig.add_subplot(1,1,1)\n",
    "ax.set_xlabel('cluster', fontsize=16)\n",
    "ax.set_ylabel('real label', fontsize=16)\n",
    "confusionmatrix = confusion_matrix(train_data.targets, Model.labels)\n",
    "ax.set_xticks(range(confusionmatrix.shape[1]))\n",
    "ax.set_yticks(range(confusionmatrix.shape[0]))\n",
    "ax.imshow(confusionmatrix[:-1], cmap='PuRd')\n",
    "fig"
   ]
  },
  {
   "cell_type": "markdown",
   "id": "3759bcf2",
   "metadata": {},
   "source": [
    "#### rearranged confusion_matrix"
   ]
  },
  {
   "cell_type": "code",
   "execution_count": 9,
   "id": "ff4295b8",
   "metadata": {},
   "outputs": [
    {
     "data": {
      "image/png": "[encoded data removed]",
      "text/plain": [
       "<Figure size 360x360 with 1 Axes>"
      ]
     },
     "execution_count": 9,
     "metadata": {},
     "output_type": "execute_result"
    }
   ],
   "source": [
    "sorted_confusion_matrix = confusionmatrix[:,[3,7,2,8,6,0,4,1,5,9,10]]\n",
    "\n",
    "fig = plt.Figure(figsize=(5,5))\n",
    "ax = fig.add_subplot(1,1,1)\n",
    "ax.set_xlabel('rearranged cluster', fontsize=16)\n",
    "ax.set_ylabel('real', fontsize=16)\n",
    "ax.set_xticks(range(confusionmatrix.shape[1]))\n",
    "ax.set_yticks(range(confusionmatrix.shape[0]))\n",
    "ax.imshow(sorted_confusion_matrix[:-1], cmap='PuRd')\n",
    "fig"
   ]
  },
  {
   "cell_type": "markdown",
   "id": "cc618f9b",
   "metadata": {},
   "source": [
    "#### NMI score"
   ]
  },
  {
   "cell_type": "code",
   "execution_count": 10,
   "id": "b98a5517",
   "metadata": {
    "scrolled": true
   },
   "outputs": [
    {
     "name": "stdout",
     "output_type": "stream",
     "text": [
      "NMI=0.8006968168981914\n"
     ]
    }
   ],
   "source": [
    "print(f'NMI={normalized_mutual_info_score(train_data.targets, Model.labels)}')"
   ]
  },
  {
   "cell_type": "markdown",
   "id": "dd9dfee8",
   "metadata": {},
   "source": [
    "#### Show the Origian, encoded and decoded train data"
   ]
  },
  {
   "cell_type": "code",
   "execution_count": 11,
   "id": "55f1fb99",
   "metadata": {},
   "outputs": [
    {
     "data": {
      "application/vnd.jupyter.widget-view+json": {
       "model_id": "8e9f10f88390461ebb0b87194e77eed1",
       "version_major": 2,
       "version_minor": 0
      },
      "text/plain": [
       "interactive(children=(IntSlider(value=0, description='i', max=1308), Output()), _dom_classes=('widget-interact…"
      ]
     },
     "metadata": {},
     "output_type": "display_data"
    },
    {
     "data": {
      "text/plain": [
       "<function __main__.f(i)>"
      ]
     },
     "execution_count": 11,
     "metadata": {},
     "output_type": "execute_result"
    }
   ],
   "source": [
    "from ipywidgets import interact\n",
    "import ipywidgets as widgets\n",
    "\n",
    "label = 10\n",
    "\n",
    "encoder = Model.enc.cpu()\n",
    "decoder = Model.dec.cpu()\n",
    "\n",
    "dat = train_data.data.view(-1,784)[Model.labels==label]\n",
    "encoded_img = encoder(dat)\n",
    "decoded_img = decoder(encoded_img)\n",
    "\n",
    "encoded_img = encoded_img.detach().numpy()\n",
    "decoded_img = decoded_img.detach().numpy()\n",
    "\n",
    "def f(i):\n",
    "    fig = plt.Figure(figsize=(10,10))\n",
    "    ax1 = fig.add_subplot(1,3,1)\n",
    "    ax2 = fig.add_subplot(1,3,2)\n",
    "    ax3 = fig.add_subplot(1,3,3)\n",
    "    ax1.axis('off')\n",
    "    # ax2.axis('off')\n",
    "    ax3.axis('off')\n",
    "    ax1.imshow(dat[i].reshape(28,28), cmap='gray')\n",
    "    ax2.imshow(encoded_img[i].reshape(1,5), cmap='gray')\n",
    "    print(encoded_img[i].reshape(1,5))\n",
    "    ax3.imshow(decoded_img[i].reshape(28,28), cmap='gray')\n",
    "    return fig\n",
    "    \n",
    "interact(f, i=widgets.IntSlider(min=0, max=dat.shape[0]-1, step=1, value=0))"
   ]
  }
 ],
 "metadata": {
  "kernelspec": {
   "display_name": "Python 3 (ipykernel)",
   "language": "python",
   "name": "python3"
  },
  "language_info": {
   "codemirror_mode": {
    "name": "ipython",
    "version": 3
   },
   "file_extension": ".py",
   "mimetype": "text/x-python",
   "name": "python",
   "nbconvert_exporter": "python",
   "pygments_lexer": "ipython3",
   "version": "3.9.7"
  }
 },
 "nbformat": 4,
 "nbformat_minor": 5
}
